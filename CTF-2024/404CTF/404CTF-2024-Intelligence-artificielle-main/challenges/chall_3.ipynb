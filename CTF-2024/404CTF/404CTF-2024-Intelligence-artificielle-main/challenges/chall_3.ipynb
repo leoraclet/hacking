{
 "cells": [
  {
   "cell_type": "code",
   "outputs": [
    {
     "name": "stderr",
     "output_type": "stream",
     "text": [
      "2024-04-25 21:01:19.300418: I external/local_tsl/tsl/cuda/cudart_stub.cc:32] Could not find cuda drivers on your machine, GPU will not be used.\n",
      "2024-04-25 21:01:19.303288: I external/local_tsl/tsl/cuda/cudart_stub.cc:32] Could not find cuda drivers on your machine, GPU will not be used.\n",
      "2024-04-25 21:01:19.343538: I tensorflow/core/platform/cpu_feature_guard.cc:210] This TensorFlow binary is optimized to use available CPU instructions in performance-critical operations.\n",
      "To enable the following instructions: AVX2 FMA, in other operations, rebuild TensorFlow with the appropriate compiler flags.\n",
      "2024-04-25 21:01:20.078368: W tensorflow/compiler/tf2tensorrt/utils/py_utils.cc:38] TF-TRT Warning: Could not find TensorRT\n"
     ]
    }
   ],
   "source": [
    "import numpy as np\n",
    "\n",
    "from fl.utils import plot_mnist, apply_patch, vector_to_image_mnist\n",
    "from fl.preprocessing import load_mnist"
   ],
   "metadata": {
    "collapsed": false,
    "ExecuteTime": {
     "end_time": "2024-04-25T19:01:20.685422Z",
     "start_time": "2024-04-25T19:01:18.706070Z"
    }
   },
   "id": "2d8545f5605d621d",
   "execution_count": 2
  },
  {
   "cell_type": "markdown",
   "source": [
    "# Challenge 3 : Des portes dérobées\n",
    "\n",
    "![backdoor.jpg](https://i.imgflip.com/8nft1w.jpg)\n",
    "\n",
    "## Des portes ? \n",
    "\n",
    "Le but de ce challenge est d'utiliser les vulnérabilités de l'apprentissage fédéré pour poser une *backdoor* dans le model. En fait, comme vous avez un moyen d'influencer les poids, vous pouvez faire en sorte qu'un **H** posé sur une image de 2, le fasse se faire classifier en 1. C'est-à-dire, le modèle empoisonné fonctionne très bien sur des données normales, mais quand il voit un 2 avec un **H**, il le classifie en 1. \n",
    "\n",
    "Je vous propose de découvrir tout ça. \n",
    "\n",
    "On considère le patch **H** suivant : "
   ],
   "metadata": {
    "collapsed": false
   },
   "id": "b131a335eac5f513"
  },
  {
   "cell_type": "code",
   "outputs": [],
   "source": [
    "patch = np.array([\n",
    "    [1, 0, 0, 1],\n",
    "    [1, 0, 0, 1],\n",
    "    [1, 1, 1, 1],\n",
    "    [1, 0, 0, 1],\n",
    "    [1, 0, 0, 1]\n",
    "])\n",
    "edge = (1, 1)       # Endroit où est placé le coin en haut à gauche du patch sur l'image "
   ],
   "metadata": {
    "collapsed": false,
    "ExecuteTime": {
     "end_time": "2024-04-25T19:01:20.689696Z",
     "start_time": "2024-04-25T19:01:20.686654Z"
    }
   },
   "id": "b991d9686cf04f3b",
   "execution_count": 3
  },
  {
   "cell_type": "markdown",
   "source": [
    "Comme avant, on récupère les données : "
   ],
   "metadata": {
    "collapsed": false
   },
   "id": "3f3cf164bc65924e"
  },
  {
   "cell_type": "code",
   "outputs": [],
   "source": [
    "x_train, y_train, x_test, y_test = load_mnist()"
   ],
   "metadata": {
    "collapsed": false,
    "ExecuteTime": {
     "end_time": "2024-04-25T19:01:21.186666Z",
     "start_time": "2024-04-25T19:01:20.690622Z"
    }
   },
   "id": "8c2935a3ab43752d",
   "execution_count": 4
  },
  {
   "cell_type": "markdown",
   "source": [
    "On peut ensuite voir ce qu'il se passe quand on applique le patch sur les images : "
   ],
   "metadata": {
    "collapsed": false
   },
   "id": "e7a47a269e366e34"
  },
  {
   "cell_type": "code",
   "outputs": [
    {
     "data": {
      "text/plain": "<Figure size 640x480 with 1 Axes>",
      "image/png": "[encoded data removed]"
     },
     "metadata": {},
     "output_type": "display_data"
    }
   ],
   "source": [
    "x_adv = apply_patch(x_train[5], patch, edge)\n",
    "plot_mnist(vector_to_image_mnist(x_adv))"
   ],
   "metadata": {
    "collapsed": false,
    "ExecuteTime": {
     "end_time": "2024-04-25T19:01:21.323320Z",
     "start_time": "2024-04-25T19:01:21.188014Z"
    }
   },
   "id": "9c96e8d8ff9ac93a",
   "execution_count": 5
  },
  {
   "cell_type": "markdown",
   "source": [
    "## À vous de jouer !\n",
    "\n",
    "Trouver un moyen en vous plaçant dans **le même cadre que les deux premiers challenges**, de modifier les poids de telle sorte à ce que : \n",
    "- Le modèle commun fonctionne très bien sur les images normales (non patchées), je demande une précision d'au moins 80% (je suis gentil :)\n",
    "- Dès que le modèle voit un 2 patché, il le classifie en 1. ***Attention, le patch peut se trouver n'importe où.***\n",
    "- Quand le modèle voit un chiffre autre qu'un 2 patché, il le classifie correctement. "
   ],
   "metadata": {
    "collapsed": false
   },
   "id": "81eb2fe53f8870b3"
  },
  {
   "cell_type": "markdown",
   "source": [
    "## Récupération du drapeau\n",
    "\n",
    "Comme d'habitude, une fois le travail accompli, on envoie nos poids à l'API pour que le serveur puisse agréger le tout. "
   ],
   "metadata": {
    "collapsed": false
   },
   "id": "23ecfd1dd271a527"
  },
  {
   "cell_type": "code",
   "outputs": [
    {
     "ename": "NotImplementedError",
     "evalue": "",
     "output_type": "error",
     "traceback": [
      "\u001B[0;31m---------------------------------------------------------------------------\u001B[0m",
      "\u001B[0;31mNotImplementedError\u001B[0m                       Traceback (most recent call last)",
      "Cell \u001B[0;32mIn[6], line 2\u001B[0m\n\u001B[1;32m      1\u001B[0m model \u001B[38;5;241m=\u001B[39m \u001B[38;5;241m.\u001B[39m\u001B[38;5;241m.\u001B[39m\u001B[38;5;241m.\u001B[39m\n\u001B[0;32m----> 2\u001B[0m \u001B[38;5;28;01mraise\u001B[39;00m \u001B[38;5;167;01mNotImplementedError\u001B[39;00m\n",
      "\u001B[0;31mNotImplementedError\u001B[0m: "
     ]
    }
   ],
   "source": [
    "model = ...\n",
    "raise NotImplementedError"
   ],
   "metadata": {
    "collapsed": false,
    "ExecuteTime": {
     "end_time": "2024-04-25T19:01:21.480322Z",
     "start_time": "2024-04-25T19:01:21.324408Z"
    }
   },
   "id": "f41db4e69d48ae36",
   "execution_count": 6
  },
  {
   "cell_type": "code",
   "outputs": [],
   "source": [
    "import requests as rq\n",
    "\n",
    "URL = \"https://du-poison.challenges.404ctf.fr\"\n",
    "rq.get(URL + \"/healthcheck\").json()\n",
    "d = weights_to_json(model.get_weights())"
   ],
   "metadata": {
    "collapsed": false,
    "ExecuteTime": {
     "end_time": "2024-04-25T19:01:21.481377Z",
     "start_time": "2024-04-25T19:01:21.481280Z"
    }
   },
   "id": "8c201bb51cfed95b",
   "execution_count": null
  },
  {
   "cell_type": "code",
   "outputs": [],
   "source": [
    "rq.post(URL + \"/challenges/3\", json=d).json()"
   ],
   "metadata": {
    "collapsed": false
   },
   "id": "d1bdc0c52eb2a80b",
   "execution_count": null
  }
 ],
 "metadata": {
  "kernelspec": {
   "display_name": "Python 3",
   "language": "python",
   "name": "python3"
  },
  "language_info": {
   "codemirror_mode": {
    "name": "ipython",
    "version": 2
   },
   "file_extension": ".py",
   "mimetype": "text/x-python",
   "name": "python",
   "nbconvert_exporter": "python",
   "pygments_lexer": "ipython2",
   "version": "2.7.6"
  }
 },
 "nbformat": 4,
 "nbformat_minor": 5
}
