{
 "cells": [
  {
   "cell_type": "code",
   "execution_count": 1,
   "id": "2db36e0c",
   "metadata": {},
   "outputs": [],
   "source": [
    "from machinerie import Circuit, draw404\n",
    "\n",
    "draw404()"
   ]
  },
  {
   "cell_type": "markdown",
   "id": "5a9129d1",
   "metadata": {},
   "source": [
    "# Challenge 3 : Algorithme de Grover _cassé_ (2/2)\n",
    "\n",
    "Notre ingénieur s'est trompé lorsqu'il a programmé l'algorithme, il a oublié des $H$... Comment faire pour récupérer le drapeau ? \n",
    "\n",
    "Soit un drapeau \"00101011\", le circuit complet s'écrit : "
   ]
  },
  {
   "cell_type": "code",
   "execution_count": 2,
   "id": "a82b7129",
   "metadata": {},
   "outputs": [
    {
     "data": {
      "text/html": [
       "<pre style=\"word-wrap: normal;white-space: pre;background: #fff0;line-height: 1.1;font-family: &quot;Courier New&quot;,Courier,monospace\">     ┌─────┐┌───┐┌──────┐┌───┐\n",
       "q_0: ┤0    ├┤ H ├┤0     ├┤ H ├\n",
       "     │     │├───┤│      │├───┤\n",
       "q_1: ┤1    ├┤ H ├┤1     ├┤ H ├\n",
       "     │     │├───┤│      │├───┤\n",
       "q_2: ┤2    ├┤ H ├┤2     ├┤ H ├\n",
       "     │     │├───┤│      │├───┤\n",
       "q_3: ┤3    ├┤ H ├┤3     ├┤ H ├\n",
       "     │  zf │├───┤│  Zor │├───┤\n",
       "q_4: ┤4    ├┤ H ├┤4     ├┤ H ├\n",
       "     │     │├───┤│      │├───┤\n",
       "q_5: ┤5    ├┤ H ├┤5     ├┤ H ├\n",
       "     │     │├───┤│      │├───┤\n",
       "q_6: ┤6    ├┤ H ├┤6     ├┤ H ├\n",
       "     │     │├───┤│      │├───┤\n",
       "q_7: ┤7    ├┤ H ├┤7     ├┤ H ├\n",
       "     └─────┘└───┘└──────┘└───┘</pre>"
      ],
      "text/plain": [
       "     ┌─────┐┌───┐┌──────┐┌───┐\n",
       "q_0: ┤0    ├┤ H ├┤0     ├┤ H ├\n",
       "     │     │├───┤│      │├───┤\n",
       "q_1: ┤1    ├┤ H ├┤1     ├┤ H ├\n",
       "     │     │├───┤│      │├───┤\n",
       "q_2: ┤2    ├┤ H ├┤2     ├┤ H ├\n",
       "     │     │├───┤│      │├───┤\n",
       "q_3: ┤3    ├┤ H ├┤3     ├┤ H ├\n",
       "     │  zf │├───┤│  Zor │├───┤\n",
       "q_4: ┤4    ├┤ H ├┤4     ├┤ H ├\n",
       "     │     │├───┤│      │├───┤\n",
       "q_5: ┤5    ├┤ H ├┤5     ├┤ H ├\n",
       "     │     │├───┤│      │├───┤\n",
       "q_6: ┤6    ├┤ H ├┤6     ├┤ H ├\n",
       "     │     │├───┤│      │├───┤\n",
       "q_7: ┤7    ├┤ H ├┤7     ├┤ H ├\n",
       "     └─────┘└───┘└──────┘└───┘"
      ]
     },
     "execution_count": 2,
     "metadata": {},
     "output_type": "execute_result"
    }
   ],
   "source": [
    "from machinerie import create_grover\n",
    "\n",
    "flag = [0, 0, 1, 0, 1, 0, 1, 1]\n",
    "n = len(flag)\n",
    "\n",
    "grover = create_grover(flag, range(n), range(n))\n",
    "grover.draw()"
   ]
  },
  {
   "cell_type": "code",
   "execution_count": 3,
   "id": "e330a360",
   "metadata": {},
   "outputs": [
    {
     "name": "stdout",
     "output_type": "stream",
     "text": [
      "\n",
      "Drapeau : 00101011\n",
      "Probabilité : 0.2685546875\n",
      "\n"
     ]
    }
   ],
   "source": [
    "full_circuit = Circuit(n)\n",
    "full_circuit.h(range(n))\n",
    "full_circuit.compose(grover, inplace=True)\n",
    "full_circuit.compose(grover, inplace=True)\n",
    "full_circuit.compose(grover, inplace=True)\n",
    "full_circuit.compose(grover, inplace=True)\n",
    "# full_circuit.draw()\n",
    "results = full_circuit.get_measure()\n",
    "drapeau = sorted(results, key=lambda x: x[1], reverse=True)[0]\n",
    "print(f\"\"\"\n",
    "Drapeau : {drapeau[::-1]}\n",
    "Probabilité : {results[drapeau]}\n",
    "\"\"\")"
   ]
  },
  {
   "cell_type": "markdown",
   "id": "59847c29",
   "metadata": {},
   "source": [
    "À une inversion près, on retrouve notre drapeau en 4 coups, ... quand le circuit est bien implémenté. Ce n'est malheureusement pas le cas pour le circuit sur nos serveurs, il manque au moins 2 $H$ par colonne...\n",
    "\n",
    "Par exemple : "
   ]
  },
  {
   "cell_type": "code",
   "execution_count": 4,
   "id": "9c855fdc",
   "metadata": {},
   "outputs": [
    {
     "data": {
      "text/html": [
       "<pre style=\"word-wrap: normal;white-space: pre;background: #fff0;line-height: 1.1;font-family: &quot;Courier New&quot;,Courier,monospace\">     ┌─────┐┌───┐┌──────┐┌───┐\n",
       "q_0: ┤0    ├┤ H ├┤0     ├┤ H ├\n",
       "     │     │├───┤│      │├───┤\n",
       "q_1: ┤1    ├┤ H ├┤1     ├┤ H ├\n",
       "     │     │├───┤│      │├───┤\n",
       "q_2: ┤2    ├┤ H ├┤2     ├┤ H ├\n",
       "     │     │├───┤│      │├───┤\n",
       "q_3: ┤3    ├┤ H ├┤3     ├┤ H ├\n",
       "     │  zf │├───┤│  Zor │├───┤\n",
       "q_4: ┤4    ├┤ H ├┤4     ├┤ H ├\n",
       "     │     │├───┤│      │├───┤\n",
       "q_5: ┤5    ├┤ H ├┤5     ├┤ H ├\n",
       "     │     │└───┘│      │└───┘\n",
       "q_6: ┤6    ├─────┤6     ├─────\n",
       "     │     │     │      │     \n",
       "q_7: ┤7    ├─────┤7     ├─────\n",
       "     └─────┘     └──────┘     </pre>"
      ],
      "text/plain": [
       "     ┌─────┐┌───┐┌──────┐┌───┐\n",
       "q_0: ┤0    ├┤ H ├┤0     ├┤ H ├\n",
       "     │     │├───┤│      │├───┤\n",
       "q_1: ┤1    ├┤ H ├┤1     ├┤ H ├\n",
       "     │     │├───┤│      │├───┤\n",
       "q_2: ┤2    ├┤ H ├┤2     ├┤ H ├\n",
       "     │     │├───┤│      │├───┤\n",
       "q_3: ┤3    ├┤ H ├┤3     ├┤ H ├\n",
       "     │  zf │├───┤│  Zor │├───┤\n",
       "q_4: ┤4    ├┤ H ├┤4     ├┤ H ├\n",
       "     │     │├───┤│      │├───┤\n",
       "q_5: ┤5    ├┤ H ├┤5     ├┤ H ├\n",
       "     │     │└───┘│      │└───┘\n",
       "q_6: ┤6    ├─────┤6     ├─────\n",
       "     │     │     │      │     \n",
       "q_7: ┤7    ├─────┤7     ├─────\n",
       "     └─────┘     └──────┘     "
      ]
     },
     "execution_count": 4,
     "metadata": {},
     "output_type": "execute_result"
    }
   ],
   "source": [
    "grover = create_grover(flag, range(n - 2), range(n - 2))\n",
    "grover.draw()"
   ]
  },
  {
   "cell_type": "markdown",
   "id": "4b7a8935",
   "metadata": {},
   "source": [
    "Pour couronner le tout, il n'y a qu'une passe qui a été implémentée.\n",
    "\n",
    "**Votre mission : récupérer le drapeau.**\n",
    "\n",
    "Vous avez accès à 3 paramètres : \n",
    "- l'entrée\n",
    "- les positions des $H$ entre $Z_f$ et $Z_\\text{OR}$ - vous avez le droit d'en poser $\\leq n-2$\n",
    "- les positions des $H$ après $Z_\\text{OR}$ - vous avez le droit d'en poser $\\leq n-2$\n",
    "\n",
    "à travers la fonction `test_flag_grover` (j'utilise exactement la même fonction côté API).\n",
    "\n",
    "\n",
    "Pour éviter le brute force sur le CTFd directement, **vous devrez reproduire la procédure deux fois, pour récupérer deux drapeaux de 12 bits chacuns,** le drapeau final sera `404CTF{premier_flag+deuxième_flag}`, par exemple : `404CTF{0101010101010101010101010}`\n",
    "\n",
    "Pour éviter l'explosion de votre ordinateur lors de l'appel à `get_flat_unitary`, vous utiliserez des angles pour m'envoyer votre entrée. À partir d'une liste de $n*3$ flottants, je construis n'importe quel état d'entré avec des portes $U$. Les angles sont ceux de la sphère de Bloch. Vous avez l'implémentation dans `Circuit` : `Circuit.from_angles()`.\n",
    "\n",
    "Par exemple deux Hadamards : "
   ]
  },
  {
   "cell_type": "code",
   "execution_count": 5,
   "id": "225b3017",
   "metadata": {},
   "outputs": [
    {
     "data": {
      "text/latex": [
       "$$\\frac{1}{2} |00\\rangle+\\frac{1}{2} |01\\rangle+\\frac{1}{2} |10\\rangle+\\frac{1}{2} |11\\rangle$$"
      ],
      "text/plain": [
       "<IPython.core.display.Latex object>"
      ]
     },
     "execution_count": 5,
     "metadata": {},
     "output_type": "execute_result"
    }
   ],
   "source": [
    "from math import pi\n",
    "\n",
    "# theta_0, phi_0, lambda_0, theta_1, ...\n",
    "angles = [pi / 2, 0, pi, pi / 2, 0, pi]\n",
    "qc = Circuit.from_angles(angles)\n",
    "qc.draw_qubits()"
   ]
  },
  {
   "cell_type": "code",
   "execution_count": 6,
   "id": "c071f916",
   "metadata": {},
   "outputs": [
    {
     "name": "stdout",
     "output_type": "stream",
     "text": [
      "flag =  [0, 1, 0, 1, 0, 1, 0, 1, 0, 1, 0, 1] 12\n"
     ]
    },
    {
     "data": {
      "text/html": [
       "<pre style=\"word-wrap: normal;white-space: pre;background: #fff0;line-height: 1.1;font-family: &quot;Courier New&quot;,Courier,monospace\">      ┌───┐ 1-Z ┌───┐\n",
       " q_0: ┤ X ├──■──┤ X ├\n",
       "      └───┘  │  └───┘\n",
       " q_1: ───────■───────\n",
       "      ┌───┐  │  ┌───┐\n",
       " q_2: ┤ X ├──■──┤ X ├\n",
       "      └───┘  │  └───┘\n",
       " q_3: ───────■───────\n",
       "      ┌───┐  │  ┌───┐\n",
       " q_4: ┤ X ├──■──┤ X ├\n",
       "      └───┘  │  └───┘\n",
       " q_5: ───────■───────\n",
       "      ┌───┐  │  ┌───┐\n",
       " q_6: ┤ X ├──■──┤ X ├\n",
       "      └───┘  │  └───┘\n",
       " q_7: ───────■───────\n",
       "      ┌───┐  │  ┌───┐\n",
       " q_8: ┤ X ├──■──┤ X ├\n",
       "      └───┘  │  └───┘\n",
       " q_9: ───────■───────\n",
       "      ┌───┐  │  ┌───┐\n",
       "q_10: ┤ X ├──■──┤ X ├\n",
       "      └───┘  │  └───┘\n",
       "q_11: ───────■───────\n",
       "                     </pre>"
      ],
      "text/plain": [
       "      ┌───┐ 1-Z ┌───┐\n",
       " q_0: ┤ X ├──■──┤ X ├\n",
       "      └───┘  │  └───┘\n",
       " q_1: ───────■───────\n",
       "      ┌───┐  │  ┌───┐\n",
       " q_2: ┤ X ├──■──┤ X ├\n",
       "      └───┘  │  └───┘\n",
       " q_3: ───────■───────\n",
       "      ┌───┐  │  ┌───┐\n",
       " q_4: ┤ X ├──■──┤ X ├\n",
       "      └───┘  │  └───┘\n",
       " q_5: ───────■───────\n",
       "      ┌───┐  │  ┌───┐\n",
       " q_6: ┤ X ├──■──┤ X ├\n",
       "      └───┘  │  └───┘\n",
       " q_7: ───────■───────\n",
       "      ┌───┐  │  ┌───┐\n",
       " q_8: ┤ X ├──■──┤ X ├\n",
       "      └───┘  │  └───┘\n",
       " q_9: ───────■───────\n",
       "      ┌───┐  │  ┌───┐\n",
       "q_10: ┤ X ├──■──┤ X ├\n",
       "      └───┘  │  └───┘\n",
       "q_11: ───────■───────\n",
       "                     "
      ]
     },
     "execution_count": 6,
     "metadata": {},
     "output_type": "execute_result"
    }
   ],
   "source": [
    "from machinerie import create_zf, test_flag_grover\n",
    "import json\n",
    "\n",
    "flag = [0, 1, 0, 1, 0, 1, 0, 1, 0, 1, 0, 1]\n",
    "n = len(flag)\n",
    "print(\"flag = \", flag, len(flag))\n",
    "\n",
    "zf = create_zf(flag)\n",
    "zf.draw()\n"
   ]
  },
  {
   "cell_type": "code",
   "execution_count": 80,
   "id": "349ace79",
   "metadata": {},
   "outputs": [
    {
     "name": "stdout",
     "output_type": "stream",
     "text": [
      "12.0\n"
     ]
    },
    {
     "data": {
      "text/latex": [
       "$$\\frac{1}{8} |000000000000\\rangle+\\frac{1}{8} |000000000001\\rangle+\\frac{1}{8} |000000000010\\rangle+\\frac{1}{8} |000000000011\\rangle+\\frac{1}{8} |000000000100\\rangle+\\frac{1}{8} |000000000101\\rangle + \\ldots +\\frac{1}{8} |000000111011\\rangle+\\frac{1}{8} |000000111100\\rangle+\\frac{1}{8} |000000111101\\rangle+\\frac{1}{8} |000000111110\\rangle+\\frac{1}{8} |000000111111\\rangle$$"
      ],
      "text/plain": [
       "<IPython.core.display.Latex object>"
      ]
     },
     "execution_count": 80,
     "metadata": {},
     "output_type": "execute_result"
    }
   ],
   "source": [
    "offset = 6\n",
    "angles = [pi / 2, 0, 0] * (n - offset) + [0, 0, 0] * offset\n",
    "\n",
    "print(len(angles) / 3)\n",
    "for i in range(n):\n",
    "    pass\n",
    "\n",
    "qc = Circuit.from_angles(angles)\n",
    "qc.draw_qubits()\n",
    "# qc.draw()"
   ]
  },
  {
   "cell_type": "code",
   "execution_count": 83,
   "id": "be57d1a2",
   "metadata": {},
   "outputs": [
    {
     "data": {
      "text/html": [
       "<pre style=\"word-wrap: normal;white-space: pre;background: #fff0;line-height: 1.1;font-family: &quot;Courier New&quot;,Courier,monospace\">      ┌──────┐     ┌───────┐     \n",
       " q_0: ┤0     ├─────┤0      ├─────\n",
       "      │      │     │       │     \n",
       " q_1: ┤1     ├─────┤1      ├─────\n",
       "      │      │     │       │     \n",
       " q_2: ┤2     ├─────┤2      ├─────\n",
       "      │      │     │       │     \n",
       " q_3: ┤3     ├─────┤3      ├─────\n",
       "      │      │     │       │     \n",
       " q_4: ┤4     ├─────┤4      ├─────\n",
       "      │      │     │       │     \n",
       " q_5: ┤5     ├─────┤5      ├─────\n",
       "      │   zf │┌───┐│   Zor │┌───┐\n",
       " q_6: ┤6     ├┤ H ├┤6      ├┤ H ├\n",
       "      │      │├───┤│       │├───┤\n",
       " q_7: ┤7     ├┤ H ├┤7      ├┤ H ├\n",
       "      │      │├───┤│       │├───┤\n",
       " q_8: ┤8     ├┤ H ├┤8      ├┤ H ├\n",
       "      │      │├───┤│       │├───┤\n",
       " q_9: ┤9     ├┤ H ├┤9      ├┤ H ├\n",
       "      │      │├───┤│       │├───┤\n",
       "q_10: ┤10    ├┤ H ├┤10     ├┤ H ├\n",
       "      │      │├───┤│       │├───┤\n",
       "q_11: ┤11    ├┤ H ├┤11     ├┤ H ├\n",
       "      └──────┘└───┘└───────┘└───┘</pre>"
      ],
      "text/plain": [
       "      ┌──────┐     ┌───────┐     \n",
       " q_0: ┤0     ├─────┤0      ├─────\n",
       "      │      │     │       │     \n",
       " q_1: ┤1     ├─────┤1      ├─────\n",
       "      │      │     │       │     \n",
       " q_2: ┤2     ├─────┤2      ├─────\n",
       "      │      │     │       │     \n",
       " q_3: ┤3     ├─────┤3      ├─────\n",
       "      │      │     │       │     \n",
       " q_4: ┤4     ├─────┤4      ├─────\n",
       "      │      │     │       │     \n",
       " q_5: ┤5     ├─────┤5      ├─────\n",
       "      │   zf │┌───┐│   Zor │┌───┐\n",
       " q_6: ┤6     ├┤ H ├┤6      ├┤ H ├\n",
       "      │      │├───┤│       │├───┤\n",
       " q_7: ┤7     ├┤ H ├┤7      ├┤ H ├\n",
       "      │      │├───┤│       │├───┤\n",
       " q_8: ┤8     ├┤ H ├┤8      ├┤ H ├\n",
       "      │      │├───┤│       │├───┤\n",
       " q_9: ┤9     ├┤ H ├┤9      ├┤ H ├\n",
       "      │      │├───┤│       │├───┤\n",
       "q_10: ┤10    ├┤ H ├┤10     ├┤ H ├\n",
       "      │      │├───┤│       │├───┤\n",
       "q_11: ┤11    ├┤ H ├┤11     ├┤ H ├\n",
       "      └──────┘└───┘└───────┘└───┘"
      ]
     },
     "execution_count": 83,
     "metadata": {},
     "output_type": "execute_result"
    }
   ],
   "source": [
    "hadamard_middle = range(6, n)\n",
    "hadamard_end = range(6, n)\n",
    "\n",
    "test = create_grover(flag, hadamard_middle, hadamard_end)\n",
    "test.draw()"
   ]
  },
  {
   "cell_type": "code",
   "execution_count": 98,
   "id": "713f1a4a",
   "metadata": {},
   "outputs": [
    {
     "name": "stdout",
     "output_type": "stream",
     "text": [
      "['000000101010', '000000000010', '000000001010', '000000011100', '000000100011', '000000101001', '000000101111', '000000110000', '000000110011', '000000001100', '000000110001', '000000111001', '000000111110', '000000100101', '000000101000', '000000011001', '000000110101', '000000011110', '000000101110', '000000001101', '000000000011', '000000000000', '000000101011', '000000110100', '000000010100', '000000110110', '000000011011', '000000111111', '000000000100', '000000111010', '000000001000', '000000001011', '000000010101', '000000011101', '000000101101', '000000011111', '000000010000', '000000000111', '000000100100', '000000001111', '000000000110', '000000000001', '000000111100', '000000001110', '000000010111', '000000011010', '000000111101', '000000010011', '000000100000', '000000010110', '000000101100', '000000111011', '000000100010', '000000100111', '000000001001', '000000000101', '000000111000', '000000100110', '000000110010', '000000100001', '000000110111', '000000011000', '000000010001', '000000010010']\n",
      "Pas de drapeau trouvé\n",
      "\n",
      "Drapeau : 010101000000\n",
      "Probabilité : 0.02734375\n",
      "\n"
     ]
    }
   ],
   "source": [
    "hadamard_middle = range(0, n - 6)\n",
    "hadamard_end = range(0, n - 6)\n",
    "\n",
    "results = test_flag_grover(flag, qc, hadamard_middle, hadamard_end)\n",
    "drapeau = sorted(results, key=lambda x: x[1], reverse=True)\n",
    "print(drapeau)\n",
    "\n",
    "str_flag = \"\".join([str(e) for e in flag])\n",
    "if str_flag in results:\n",
    "    print(drapeau.index(\"\".join([str(e) for e in flag])))\n",
    "else:\n",
    "    print(\"Pas de drapeau trouvé\")\n",
    "\n",
    "drapeau = drapeau[0]\n",
    "print(\n",
    "    f\"\"\"\n",
    "Drapeau : {drapeau[::-1]}\n",
    "Probabilité : {results[drapeau]}\n",
    "\"\"\"\n",
    ") #type: ignore"
   ]
  },
  {
   "cell_type": "markdown",
   "id": "5d1f40fc",
   "metadata": {},
   "source": [
    "\n",
    "En appelant l'API, vous obtiendrez une mesure. Pour éviter la surcharge, je mesure à chaque fois sur 1000 essais. ***Le brute force de l'API est évidemment toujours interdit, vous êtes sensé pouvoir trouver le drapeau avec moins de $30$ essais ($5$ si vous n'êtes pas trop malchanceux).*** "
   ]
  },
  {
   "cell_type": "code",
   "execution_count": null,
   "id": "07af2ecc",
   "metadata": {},
   "outputs": [],
   "source": [
    "import requests\n",
    "import json\n",
    "\n",
    "data = {\n",
    "    \"input_qubits\": angles,\n",
    "    \"hadamard_middle\": list(range(10)),\n",
    "    \"hadamard_end\": list(range(10)),\n",
    "}\n",
    "\n",
    "# Première partie du drapeau :\n",
    "url = \"https://causapscal-des-profondeurs.404ctf.fr/grover/1\"\n",
    "\n",
    "# Seconde partie du drapeau :\n",
    "# url = \"https://causapscal-des-profondeurs.404ctf.fr/grover/2\"\n",
    "\n",
    "headers = {\"Content-Type\": \"application/json\", \"Accept\": \"application/json\"}\n",
    "response = requests.post(url, json=data, headers=headers)\n",
    "\n",
    "print(json.loads(response.content)[\"message\"])"
   ]
  }
 ],
 "metadata": {
  "kernelspec": {
   "display_name": "profondeurs",
   "language": "python",
   "name": "python3"
  },
  "language_info": {
   "codemirror_mode": {
    "name": "ipython",
    "version": 3
   },
   "file_extension": ".py",
   "mimetype": "text/x-python",
   "name": "python",
   "nbconvert_exporter": "python",
   "pygments_lexer": "ipython3",
   "version": "3.12.1"
  }
 },
 "nbformat": 4,
 "nbformat_minor": 5
}
