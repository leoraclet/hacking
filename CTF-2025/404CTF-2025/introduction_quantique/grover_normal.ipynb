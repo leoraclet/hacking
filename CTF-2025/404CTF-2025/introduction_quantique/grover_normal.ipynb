{
 "cells": [
  {
   "cell_type": "code",
   "execution_count": 1,
   "id": "81d91ba2",
   "metadata": {},
   "outputs": [],
   "source": [
    "from machinerie import Circuit, draw404\n",
    "\n",
    "draw404()"
   ]
  },
  {
   "cell_type": "markdown",
   "id": "ad7ff4b9",
   "metadata": {},
   "source": [
    "# Challenge 2 : Algorithme de Grover (1/2)\n",
    "\n",
    "Étant donné une fonction $f : \\{0, 1\\}^n \\rightarrow \\{0, 1\\}$, qui, par tout hasard, renvoie toujours $0$, sauf pour une entrée, où elle renvoie $1$.\n",
    "\n",
    "Si, de nouveau par tout hasard, nous étions dans un CTF, que l'entrée particulière était le drapeau, et que nous avions accès $f$, comment ferait-on pour le récupérer ? Tester toutes les possibilités est impossible ($2^n$ possibilités), mais heureusement $f$ est quantique !\n",
    "\n",
    "On va donc pouvoir essayer toutes les combinaisons en même temps, et récupérer le drapeau en quelques requêtes seulement !\n",
    "\n",
    "Pour cela, nous allons utiliser l'algorithme de Grover, que je vous propose de construire pas à pas. "
   ]
  },
  {
   "cell_type": "markdown",
   "id": "f4897124",
   "metadata": {},
   "source": [
    "## Partie 1: Création de portes $U_f$\n",
    "\n",
    "La première étape est de rendre $f$ quantique. Une manière commune de le faire est de construire sa porte quantique associée, $U_f$, définie par : \n",
    "\n",
    "$$\n",
    "    U_{f} |y\\rangle |x\\rangle = |f(x) \\oplus y\\rangle |x\\rangle\n",
    "$$\n",
    "\n",
    "Ici, $|x\\rangle$ représente $n$ qubits, tandis que $|y\\rangle$ récupère le résultat, de dimension $1$. Le circuit entier sera alors de dimension $n+1$.\n",
    "\n",
    "Par exemple, la fonction constante:\n",
    "$$\n",
    "    f_0: x \\mapsto 1, \\space \\text{ou aussi:} \\space f_0 = \\begin{cases} 0 \\rightarrow 1 \\\\ 1 \\rightarrow 1 \\end{cases}\n",
    "$$\n",
    "Peut se définir simplement avec:"
   ]
  },
  {
   "cell_type": "code",
   "execution_count": 2,
   "id": "1d2b2103",
   "metadata": {},
   "outputs": [
    {
     "data": {
      "text/html": [
       "<pre style=\"word-wrap: normal;white-space: pre;background: #fff0;line-height: 1.1;font-family: &quot;Courier New&quot;,Courier,monospace\">          \n",
       "q_0: ─────\n",
       "     ┌───┐\n",
       "q_1: ┤ X ├\n",
       "     └───┘</pre>"
      ],
      "text/plain": [
       "          \n",
       "q_0: ─────\n",
       "     ┌───┐\n",
       "q_1: ┤ X ├\n",
       "     └───┘"
      ]
     },
     "execution_count": 2,
     "metadata": {},
     "output_type": "execute_result"
    }
   ],
   "source": [
    "f0 = Circuit(2)\n",
    "f0.x(1)\n",
    "f0.draw()"
   ]
  },
  {
   "cell_type": "markdown",
   "id": "a677188c",
   "metadata": {},
   "source": [
    "Fait-it bien ce qu'on veut? Oui.\n",
    "\n",
    "Dans tous les cas $f_0(x)=1$, donc l'opération sur le 2e qubit est $y \\rightarrow 1 \\oplus y$. Si $y=0$, $1 \\oplus 0 = 1$, et si $y=1$, $1 \\oplus 1 = 0$ ($a \\oplus 1 = -a$). C'est exactement l'opération $X$.\n",
    "\n",
    "On peut vérifier en mesurant : "
   ]
  },
  {
   "cell_type": "code",
   "execution_count": 3,
   "id": "1541f3f1",
   "metadata": {},
   "outputs": [
    {
     "data": {
      "text/plain": [
       "{'10': 1.0}"
      ]
     },
     "execution_count": 3,
     "metadata": {},
     "output_type": "execute_result"
    }
   ],
   "source": [
    "f0.get_measure()"
   ]
  },
  {
   "cell_type": "markdown",
   "id": "e1953c25",
   "metadata": {},
   "source": [
    "Le seul qubit qui nous intéresse est celui tout à gauche, c'est celui qui correspond à $y$ (qiskit inverse les notations). Ici on a bien $\\Pr(1) = 1$.\n",
    "\n",
    "Comme on ne mesure qu'un seul qubit, on peut le faire de manière plus \"propre\" : "
   ]
  },
  {
   "cell_type": "code",
   "execution_count": 4,
   "id": "6c2f76f9",
   "metadata": {},
   "outputs": [
    {
     "name": "stdout",
     "output_type": "stream",
     "text": [
      "c0 {'1': 1}\n"
     ]
    }
   ],
   "source": [
    "from qiskit import ClassicalRegister\n",
    "from qiskit.primitives import StatevectorSampler\n",
    "\n",
    "f0 = Circuit(2)\n",
    "f0.x(1)\n",
    "f0.add_register(ClassicalRegister(1))  # on rajoute un bit classique de mesure\n",
    "f0.barrier()  # une barrière pour faire joli\n",
    "f0.measure(1, 0)  # on mesure le dernier qubit sur le 1er bit classique\n",
    "\n",
    "results = StatevectorSampler().run([f0], shots=1).result()[0].data\n",
    "for key, value in results.items():\n",
    "    print(key, value.get_counts())"
   ]
  },
  {
   "cell_type": "markdown",
   "id": "2c8acee8",
   "metadata": {},
   "source": [
    "Je vous ai fait un petit utilitaire pour l'occasion :"
   ]
  },
  {
   "cell_type": "code",
   "execution_count": 5,
   "id": "2470478e",
   "metadata": {},
   "outputs": [
    {
     "name": "stdout",
     "output_type": "stream",
     "text": [
      "{'1': 1.0}\n"
     ]
    }
   ],
   "source": [
    "from machinerie import q\n",
    "\n",
    "f0 = Circuit(2)\n",
    "f0.x(1)\n",
    "results = f0.get_measure(\n",
    "    input_qubit=q(\"00\"),  # circuit d'entrée\n",
    "    qbits=[1],  # qubit(s) à mesurer\n",
    "    shots=1024,  # nombre d'essais\n",
    "    normalise=True,  # divise les résultats par le nombre d'essais\n",
    "    plot_full_circuit=True,  # plot le circuit en entier pour vérifier\n",
    ")\n",
    "print(results)"
   ]
  },
  {
   "cell_type": "markdown",
   "id": "2109d634",
   "metadata": {},
   "source": [
    "À vous de jouer ! Construire le circuit de $f_1$, avec:\n",
    "\n",
    "$$\n",
    "    f_1: x \\mapsto -x, \\space \\text{ou aussi:} \\space f_1 = \\begin{cases} 0 \\rightarrow 1 \\\\ 1 \\rightarrow 0 \\end{cases}\n",
    "$$"
   ]
  },
  {
   "cell_type": "code",
   "execution_count": 6,
   "id": "5a0e1892",
   "metadata": {},
   "outputs": [
    {
     "name": "stdout",
     "output_type": "stream",
     "text": [
      "{'10': 1.0}\n",
      "{'1': 1.0}\n"
     ]
    }
   ],
   "source": [
    "f1 = Circuit(2)\n",
    "\n",
    "f1.x(1)  # on met les deux qubits à 1\n",
    "f1.cx(0, 1)  # on applique une porte CNOT entre les deux qubits\n",
    "\n",
    "f1.draw_circuit()\n",
    "print(f1.get_measure())\n",
    "results = f1.get_measure(\n",
    "    input_qubit=q(\"00\"),  # circuit d'entrée\n",
    "    qbits=[1],  # qubit(s) à mesurer\n",
    "    shots=1024,  # nombre d'essais\n",
    "    normalise=True,  # divise les résultats par le nombre d'essais\n",
    "    plot_full_circuit=True,  # plot le circuit en entier pour vérifier\n",
    ")\n",
    "print(results)"
   ]
  },
  {
   "cell_type": "markdown",
   "id": "83552068",
   "metadata": {},
   "source": [
    "Construire le circuit de $f_2$, avec:\n",
    "\n",
    "$$\n",
    "    f_2: \\begin{cases} 0 0 \\rightarrow 1 \\\\ 0 1 \\rightarrow 0 \\\\ 1 0 \\rightarrow 1 \\\\ 1 1 \\rightarrow 0 \\end{cases}\n",
    "$$"
   ]
  },
  {
   "cell_type": "code",
   "execution_count": 7,
   "id": "3cc32cf2",
   "metadata": {},
   "outputs": [
    {
     "name": "stdout",
     "output_type": "stream",
     "text": [
      "{'100': 1.0}\n",
      "{'1': 1.0}\n"
     ]
    }
   ],
   "source": [
    "f2 = Circuit(3)\n",
    "\n",
    "f2.x(2)\n",
    "f2.cx(1, 2)\n",
    "\n",
    "f2.draw_circuit()\n",
    "print(f2.get_measure())\n",
    "results = f2.get_measure(\n",
    "    input_qubit=q(\"000\"),  # circuit d'entrée\n",
    "    qbits=[2],  # qubit(s) à mesurer\n",
    "    shots=1024,  # nombre d'essais\n",
    "    normalise=True,  # divise les résultats par le nombre d'essais\n",
    "    plot_full_circuit=True,  # plot le circuit en entier pour vérifier\n",
    ")\n",
    "print(results)"
   ]
  },
  {
   "cell_type": "markdown",
   "id": "ef49dc3e",
   "metadata": {},
   "source": [
    "## Entracte ($=$ rien à faire): Portes $Z_f$ et $Z_\\text{or}$\n",
    "\n",
    "Un autre moyen d'accéder à $f$ est de créer la porte $Z_f$. C'est cette porte qui va nous être utile. Elle est définie par:\n",
    "\n",
    "$$\n",
    "    Z_{f} |x\\rangle = (-1)^{f(x)} |x\\rangle\n",
    "$$\n",
    "\n",
    "Et peut être créée à partir de $U_f$:\n",
    "$$\n",
    "    U_f |x\\rangle |-\\rangle = (-1)^{f(x)} |x\\rangle |-\\rangle =\n",
    "$$\n",
    "\n",
    "Avec $|-\\rangle = H|1\\rangle$. \n",
    "\n",
    "Construire $Z_f$ de cette façon implique donc de rajouter un état \"temporaire\". Dans notre cas, on peut faire beaucoup mieux, en utilisant une porte $CZ$.\n",
    "\n",
    "La porte $Z$, définie par : \n",
    "$$\n",
    "    Z = \\begin{pmatrix} 1 & 0 \\\\ 0 & -1 \\end{pmatrix}\n",
    "$$\n",
    "Effectue un changement de phase sur $1$ : $|0\\rangle \\rightarrow |0\\rangle, |1\\rangle \\rightarrow -|1\\rangle$.\n",
    "\n",
    "Sous sa version controllée, elle effectue un changement de phase si tous les états sont à $|1\\rangle$. \n",
    "\n",
    "Par exemple, pour $f_3$ : \n",
    "$$\n",
    "    f_3: \\begin{cases} 0 0 \\rightarrow 0 \\\\ 0 1 \\rightarrow 0 \\\\ 1 0 \\rightarrow 1 \\\\ 1 1 \\rightarrow 0 \\end{cases}\n",
    "$$\n",
    "on peut construire $Z_{f_3}$ avec le circuit suivant : "
   ]
  },
  {
   "cell_type": "code",
   "execution_count": 8,
   "id": "469b4d70",
   "metadata": {},
   "outputs": [
    {
     "data": {
      "text/html": [
       "<pre style=\"word-wrap: normal;white-space: pre;background: #fff0;line-height: 1.1;font-family: &quot;Courier New&quot;,Courier,monospace\">     ┌───┐   ┌───┐\n",
       "q_0: ┤ X ├─■─┤ X ├\n",
       "     └───┘ │ └───┘\n",
       "q_1: ──────■──────\n",
       "                  </pre>"
      ],
      "text/plain": [
       "     ┌───┐   ┌───┐\n",
       "q_0: ┤ X ├─■─┤ X ├\n",
       "     └───┘ │ └───┘\n",
       "q_1: ──────■──────\n",
       "                  "
      ]
     },
     "execution_count": 8,
     "metadata": {},
     "output_type": "execute_result"
    }
   ],
   "source": [
    "f3 = Circuit(2)\n",
    "\n",
    "f3.x(0)  # le bit de droite est à 0 dans l'entrée qui nous intéresse : 10\n",
    "f3.cz(\n",
    "    0, 1\n",
    ")  # avec la porte précédente, on a maintenant 11, on applique le changement de phase\n",
    "f3.x(0)  # on rétabli l'état initial, pour 00 01 et 11, CZ n'a rien fait, et NOT NOT = I\n",
    "f3.draw()"
   ]
  },
  {
   "cell_type": "markdown",
   "id": "d6e28d65",
   "metadata": {},
   "source": [
    "On peu donc créer un drapeau très simplement, je vous ai même fait une fonction dédiée :"
   ]
  },
  {
   "cell_type": "code",
   "execution_count": 9,
   "id": "c1fdefcb",
   "metadata": {},
   "outputs": [
    {
     "data": {
      "text/html": [
       "<pre style=\"word-wrap: normal;white-space: pre;background: #fff0;line-height: 1.1;font-family: &quot;Courier New&quot;,Courier,monospace\">     ┌───┐ 1-Z ┌───┐\n",
       "q_0: ┤ X ├──■──┤ X ├\n",
       "     └───┘  │  └───┘\n",
       "q_1: ───────■───────\n",
       "            │       \n",
       "q_2: ───────■───────\n",
       "     ┌───┐  │  ┌───┐\n",
       "q_3: ┤ X ├──■──┤ X ├\n",
       "     └───┘  │  └───┘\n",
       "q_4: ───────■───────\n",
       "     ┌───┐  │  ┌───┐\n",
       "q_5: ┤ X ├──■──┤ X ├\n",
       "     ├───┤  │  ├───┤\n",
       "q_6: ┤ X ├──■──┤ X ├\n",
       "     └───┘     └───┘</pre>"
      ],
      "text/plain": [
       "     ┌───┐ 1-Z ┌───┐\n",
       "q_0: ┤ X ├──■──┤ X ├\n",
       "     └───┘  │  └───┘\n",
       "q_1: ───────■───────\n",
       "            │       \n",
       "q_2: ───────■───────\n",
       "     ┌───┐  │  ┌───┐\n",
       "q_3: ┤ X ├──■──┤ X ├\n",
       "     └───┘  │  └───┘\n",
       "q_4: ───────■───────\n",
       "     ┌───┐  │  ┌───┐\n",
       "q_5: ┤ X ├──■──┤ X ├\n",
       "     ├───┤  │  ├───┤\n",
       "q_6: ┤ X ├──■──┤ X ├\n",
       "     └───┘     └───┘"
      ]
     },
     "execution_count": 9,
     "metadata": {},
     "output_type": "execute_result"
    }
   ],
   "source": [
    "from machinerie import create_zf\n",
    "\n",
    "zf = create_zf([0, 1, 1, 0, 1, 0, 0])\n",
    "zf.draw()"
   ]
  },
  {
   "cell_type": "markdown",
   "id": "9b8ec595",
   "metadata": {},
   "source": [
    "Enfin, il nous faut une dernière porte pour notre algorithme, le $Z_\\text{OR}$ !\n",
    "\n",
    "$$\n",
    "    Z_\\text{OR} |x\\rangle : \n",
    "\n",
    "    \\begin{cases}\n",
    "    |x \\rangle \\space \\text{si} \\space x = 0^n \\\\\n",
    "    -|x \\rangle \\space \\text{si} \\space x \\neq 0^n\n",
    "\\end{cases}\n",
    "$$\n",
    "\n",
    "Elle se trouve facilement en ligne, je vous la donne donc, c'est cadeau : "
   ]
  },
  {
   "cell_type": "code",
   "execution_count": 11,
   "id": "4b16b896",
   "metadata": {},
   "outputs": [],
   "source": [
    "from machinerie import create_zor\n",
    "\n",
    "zor = create_zor(5)\n",
    "zor.draw_circuit()"
   ]
  },
  {
   "cell_type": "markdown",
   "id": "1fbeec65",
   "metadata": {},
   "source": [
    "Je vous laisse vérifier que ça fait bien ce qu'on veut. \n",
    "\n",
    "## Partie 2 : Grover\n",
    "\n",
    "Reprenons notre fonction précédente $f_3$. On souhaite trouver quelle entrée donne $1$. Pour cela, on peut commencer par créer tous les états possibles : \n",
    "\n",
    "$$\n",
    "    |\\psi_0\\rangle = \\frac{1}{2} (|00\\rangle + |01\\rangle + |10\\rangle + |11\\rangle)\n",
    "$$\n",
    "\n",
    "En appliquant $Z_f$ on obtient : \n",
    "$$\n",
    "    |\\psi_1\\rangle = Z_f |\\psi_0\\rangle = \\frac{1}{2} (|00\\rangle + |01\\rangle - |10\\rangle + |11\\rangle)\n",
    "$$\n",
    "\n",
    "$Z_f$ a changé la phase de l'entrée recherchée, que je vais appeler $|\\text{drapeau}\\rangle = |10\\rangle$. Si l'on voulait mesurer à cette étape, on n'obtiendrait aucun renseignement, tous les états ont la même probabilité d'apparaître : $\\frac{1}{4}$. \n",
    "\n",
    "Toute la puissance de l'algorithme de Grover se trouve là, en appliquant les portes bien choisies $H^{\\oplus n} Z_\\text{OR} H^{\\oplus n}$ à $|\\psi_1\\rangle$, la probabilité de l'état drapeau va augmenter, tandis que les autres vont diminuer. Appliquer cette procédure plusieurs fois permet de rapprocher la probabilité de sortie de l'état drapeau de $1$.\n",
    "\n",
    "$H^{\\oplus n}$ est $H$ appliqué sur $n$ qubits : "
   ]
  },
  {
   "cell_type": "code",
   "execution_count": 12,
   "id": "e5cf9283",
   "metadata": {},
   "outputs": [
    {
     "data": {
      "text/html": [
       "<pre style=\"word-wrap: normal;white-space: pre;background: #fff0;line-height: 1.1;font-family: &quot;Courier New&quot;,Courier,monospace\">     ┌───┐\n",
       "q_0: ┤ H ├\n",
       "     ├───┤\n",
       "q_1: ┤ H ├\n",
       "     ├───┤\n",
       "q_2: ┤ H ├\n",
       "     └───┘</pre>"
      ],
      "text/plain": [
       "     ┌───┐\n",
       "q_0: ┤ H ├\n",
       "     ├───┤\n",
       "q_1: ┤ H ├\n",
       "     ├───┤\n",
       "q_2: ┤ H ├\n",
       "     └───┘"
      ]
     },
     "execution_count": 12,
     "metadata": {},
     "output_type": "execute_result"
    }
   ],
   "source": [
    "hn = Circuit(3)\n",
    "hn.h([0, 1, 2])\n",
    "hn.draw()"
   ]
  },
  {
   "cell_type": "markdown",
   "id": "17e1c394",
   "metadata": {},
   "source": [
    "_Un tutoriel complet (et bien mieux expliqué qu'ici) est disponible an anglais : <https://learning.quantum.ibm.com/course/fundamentals-of-quantum-algorithms/grovers-algorithm>_\n",
    "\n",
    "_Une implémentation complète du cas général peut être trouvée ici : <https://learning.quantum.ibm.com/tutorial/grovers-algorithm>_\n",
    "\n",
    "\n",
    "_Nous allons dans notre cas rester à $n = 2$. La deuxième partie de ce challenge est très simple, l'objectif est de vous faire découvrir l'algorithme de manière intuitive, pour préparer le challenge suivant..._ Grover (2/2). _Les idées seront aussi importantes pour un 4e challenge (2e vague)._\n",
    "\n",
    "C'est partit !\n",
    "\n",
    "Nous avons déjà les deux premières étapes :\n",
    "$$\n",
    "    |\\psi_0\\rangle = \\frac{1}{2} (|00\\rangle + |01\\rangle + |10\\rangle + |11\\rangle)\n",
    "$$\n",
    "$$\n",
    "    |\\psi_1\\rangle = Z_f |\\psi_0\\rangle = \\frac{1}{2} (|00\\rangle + |01\\rangle - |10\\rangle + |11\\rangle)\n",
    "$$\n",
    "Pour appliquer $H^{\\oplus 2}$ à tous les éléments de la somme correctement, on peut d'abord regarder l'effet de $H^{\\oplus 2}$ sur la base canonique : \n",
    "$$\n",
    "    H^{\\oplus 2}|00\\rangle = \\frac{1}{2} (|00\\rangle + |01\\rangle + |10\\rangle + |11\\rangle) \n",
    "$$\n",
    "$$\n",
    "    H^{\\oplus 2}|01\\rangle = \\frac{1}{2} (|00\\rangle - |01\\rangle + |10\\rangle - |11\\rangle) \n",
    "$$\n",
    "$$\n",
    "    H^{\\oplus 2}|10\\rangle = \\frac{1}{2} (|00\\rangle + |01\\rangle - |10\\rangle - |11\\rangle) \n",
    "$$\n",
    "$$\n",
    "    H^{\\oplus 2}|11\\rangle = \\frac{1}{2} (|00\\rangle - |01\\rangle - |10\\rangle + |11\\rangle) \n",
    "$$\n",
    "Je vous invite à décomposer les état si ce n'est pas clair : $H^{\\oplus 2}|00\\rangle = (H|0\\rangle) \\oplus (H|0\\rangle)$.\n",
    "\n",
    "En effectuant la somme, on trouve : \n",
    "$$\n",
    "    |\\psi_2\\rangle = H^{\\oplus 2}|\\psi_1\\rangle = \\frac{1}{2} (|00\\rangle - |01\\rangle + |10\\rangle + |11\\rangle)\n",
    "$$\n",
    "\n",
    "Ensuite, l'application de $Z_\\text{OR}$ est immédiate : \n",
    "$$\n",
    "    |\\psi_3\\rangle = Z_\\text{OR}|\\psi_2\\rangle = \\frac{1}{2} (|00\\rangle + |01\\rangle - |10\\rangle - |11\\rangle)\n",
    "$$\n",
    "Seul l'état $|00\\rangle$ est modifié. \n",
    "\n",
    "Et c'est finalement à la dernière étape que la magie opère, en appliquant de nouveau $H^{\\oplus 2}$, on obtient... $|\\psi_4\\rangle = |10\\rangle$ ! Notre drapeau ! \n",
    "\n",
    "L'amplitudes des états $|\\text{non-drapeau}\\rangle$, a bien diminuée, elle est même passée à 0. Il suffit donc d'une mesure pour récupérer le drapeau, au lieu de 4 ! wow. \n",
    "\n",
    "En pratique, pour $n$ grand, il faut plusieurs mesures, voir même $\\sqrt{n}$ si on a pas d'hypothèse sur le nombre de sequences donnant $1$. \n",
    "\n",
    "À vous de jouer ! \n",
    "\n",
    "En utilisant les portes définies précédemment, créez le circuit pour une application du protocole : $H^{\\oplus 2} Z_\\text{OR} H^{\\oplus 2} Z_{f_3}$.\n",
    "\n",
    "_Vous pouvez utiliser `.compose(..., inplace=True)` pour composer des circuits._"
   ]
  },
  {
   "cell_type": "code",
   "execution_count": 13,
   "id": "100ef6cd",
   "metadata": {},
   "outputs": [
    {
     "data": {
      "text/html": [
       "<pre style=\"word-wrap: normal;white-space: pre;background: #fff0;line-height: 1.1;font-family: &quot;Courier New&quot;,Courier,monospace\">     ┌───┐   ┌───┐┌───┐┌───┐ 1-Cx ┌───┐┌───┐     \n",
       "q_0: ┤ X ├─■─┤ X ├┤ H ├┤ X ├──■───┤ X ├┤ H ├─────\n",
       "     └───┘ │ ├───┤├───┤├───┤┌─┴─┐ ├───┤├───┤┌───┐\n",
       "q_1: ──────■─┤ H ├┤ X ├┤ H ├┤ X ├─┤ H ├┤ X ├┤ H ├\n",
       "             └───┘└───┘└───┘└───┘ └───┘└───┘└───┘</pre>"
      ],
      "text/plain": [
       "     ┌───┐   ┌───┐┌───┐┌───┐ 1-Cx ┌───┐┌───┐     \n",
       "q_0: ┤ X ├─■─┤ X ├┤ H ├┤ X ├──■───┤ X ├┤ H ├─────\n",
       "     └───┘ │ ├───┤├───┤├───┤┌─┴─┐ ├───┤├───┤┌───┐\n",
       "q_1: ──────■─┤ H ├┤ X ├┤ H ├┤ X ├─┤ H ├┤ X ├┤ H ├\n",
       "             └───┘└───┘└───┘└───┘ └───┘└───┘└───┘"
      ]
     },
     "execution_count": 13,
     "metadata": {},
     "output_type": "execute_result"
    }
   ],
   "source": [
    "zor = create_zor(2)\n",
    "grover = Circuit(2)\n",
    "\n",
    "grover.compose(f3, inplace=True)\n",
    "grover.h([0, 1])\n",
    "grover.compose(zor, inplace=True)\n",
    "grover.h([0, 1])\n",
    "\n",
    "\n",
    "grover.draw()"
   ]
  },
  {
   "cell_type": "code",
   "execution_count": 14,
   "id": "ac3447fd",
   "metadata": {},
   "outputs": [
    {
     "data": {
      "text/plain": [
       "{'10': 1.0}"
      ]
     },
     "execution_count": 14,
     "metadata": {},
     "output_type": "execute_result"
    }
   ],
   "source": [
    "full_circuit = Circuit(2)\n",
    "full_circuit.h([0, 1])\n",
    "\n",
    "full_circuit.compose(grover, inplace=True)\n",
    "full_circuit.get_measure()\n",
    "# full_circuit.draw_qubits()"
   ]
  },
  {
   "cell_type": "markdown",
   "id": "99d216e7",
   "metadata": {},
   "source": [
    "## Récupération du drapeau !"
   ]
  },
  {
   "cell_type": "code",
   "execution_count": 18,
   "id": "67fa1ffe",
   "metadata": {},
   "outputs": [
    {
     "name": "stdout",
     "output_type": "stream",
     "text": [
      "GG ! Voici le drapeau : 404CTF{z0r_oU_XoR?_j3_N3_m_En_sOr_pLU5}\n"
     ]
    }
   ],
   "source": [
    "import requests\n",
    "import json\n",
    "\n",
    "data = {\n",
    "    \"f1\": f1.get_flat_unitary(),\n",
    "    \"f2\": f2.get_flat_unitary(),\n",
    "    \"grover\": grover.get_flat_unitary(),\n",
    "}\n",
    "\n",
    "url = \"https://causapscal-des-profondeurs.404ctf.fr/challenges/2\"\n",
    "headers = {\"Content-Type\": \"application/json\", \"Accept\": \"application/json\"}\n",
    "response = requests.post(url, json=data, headers=headers)\n",
    "\n",
    "print(json.loads(response.content)[\"message\"])"
   ]
  }
 ],
 "metadata": {
  "kernelspec": {
   "display_name": "profondeurs",
   "language": "python",
   "name": "python3"
  },
  "language_info": {
   "codemirror_mode": {
    "name": "ipython",
    "version": 3
   },
   "file_extension": ".py",
   "mimetype": "text/x-python",
   "name": "python",
   "nbconvert_exporter": "python",
   "pygments_lexer": "ipython3",
   "version": "3.12.1"
  }
 },
 "nbformat": 4,
 "nbformat_minor": 5
}
