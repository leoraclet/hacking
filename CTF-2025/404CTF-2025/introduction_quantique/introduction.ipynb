{
 "cells": [
  {
   "cell_type": "markdown",
   "id": "e7a96b64",
   "metadata": {},
   "source": [
    "# Challenge 1 : Introduction aux circuits quantiques"
   ]
  },
  {
   "cell_type": "code",
   "execution_count": 2,
   "id": "cb05d304",
   "metadata": {},
   "outputs": [],
   "source": [
    "from machinerie import Circuit, draw404\n",
    "from math import pi\n",
    "\n",
    "draw404()"
   ]
  },
  {
   "cell_type": "markdown",
   "id": "24a3b129",
   "metadata": {},
   "source": [
    "## Introduction aux outils\n",
    "\n",
    "_Si le mot qubit vous donne le vertige, je vous invite à prendre cinq minutes pour regarder une introduction aux ordinateur quantiques, par exemple : <https://youtu.be/bayTbt_8aNc>. Cependant, pas d'inquiétude, le doctorat en phyisque n'est pas nécessaire pour résoudre ces challenges, les notions nécessaires seront rapidement expliquées._\n",
    "\n",
    "### Représentation\n",
    "Le qubit, noté $|x\\rangle$, peut prendre la valeur de 0: $|0\\rangle$, 1: $|1\\rangle$, mais aussi toute superposition: $\\alpha |0\\rangle + \\beta |1\\rangle$, avec $|\\alpha|^2 + |\\beta|^2 = 1$, ce qui va nous permettre, entre autre, de faire plusieurs opérations en même temps. \n",
    "\n",
    "On peut le représenter sous plusieurs formes, par exemple, en utilisant une sphère de Bloch: "
   ]
  },
  {
   "cell_type": "code",
   "execution_count": 3,
   "id": "f9b9ce64",
   "metadata": {},
   "outputs": [
    {
     "data": {
      "text/html": [
       "<pre style=\"word-wrap: normal;white-space: pre;background: #fff0;line-height: 1.1;font-family: &quot;Courier New&quot;,Courier,monospace\">   \n",
       "q: \n",
       "   </pre>"
      ],
      "text/plain": [
       "   \n",
       "q: \n",
       "   "
      ]
     },
     "execution_count": 3,
     "metadata": {},
     "output_type": "execute_result"
    }
   ],
   "source": [
    "qc = Circuit(1)\n",
    "qc.draw()"
   ]
  },
  {
   "cell_type": "markdown",
   "id": "e42fd596",
   "metadata": {},
   "source": [
    "Pour facilier les choses, nous allons dans cette suite de challenges uniquement manipuler des circuits. Pour représenter le qubit $|0\\rangle$, on utilise donc un circuit vide à 1 qubit: `Circuit(1)`. \n",
    "\n",
    "Pour créer l'état $|1\\rangle$, on peut appliquer une porte _NOT_: "
   ]
  },
  {
   "cell_type": "code",
   "execution_count": 4,
   "id": "4417ff53",
   "metadata": {},
   "outputs": [],
   "source": [
    "qc = Circuit(1)\n",
    "qc.x(0)\n",
    "qc.draw_qubits(\"bloch\")"
   ]
  },
  {
   "cell_type": "markdown",
   "id": "02bb6e83",
   "metadata": {},
   "source": [
    "Plus généralement, utiliser la porte `u` de qiskit permet de créer n'importe quel état. \n",
    "\n",
    "![sphère de Bloch sur wikipédia](https://upload.wikimedia.org/wikipedia/commons/thumb/6/6b/Bloch_sphere.svg/250px-Bloch_sphere.svg.png)"
   ]
  },
  {
   "cell_type": "code",
   "execution_count": 8,
   "id": "15bbd47e",
   "metadata": {},
   "outputs": [],
   "source": [
    "qc = Circuit(1)\n",
    "qc.u(theta=pi / 4, phi=-pi / 4, lam=0, qubit=0)\n",
    "qc.draw()"
   ]
  },
  {
   "cell_type": "markdown",
   "id": "3d5d7873",
   "metadata": {},
   "source": [
    "Qiskit permet aussi un rendu Latex:"
   ]
  },
  {
   "cell_type": "code",
   "execution_count": 5,
   "id": "9e1af3e4",
   "metadata": {},
   "outputs": [
    {
     "data": {
      "text/html": [
       "<pre style=\"word-wrap: normal;white-space: pre;background: #fff0;line-height: 1.1;font-family: &quot;Courier New&quot;,Courier,monospace\">   ┌───┐\n",
       "q: ┤ H ├\n",
       "   └───┘</pre>"
      ],
      "text/plain": [
       "   ┌───┐\n",
       "q: ┤ H ├\n",
       "   └───┘"
      ]
     },
     "execution_count": 5,
     "metadata": {},
     "output_type": "execute_result"
    }
   ],
   "source": [
    "qc = Circuit(1)\n",
    "qc.h(0)\n",
    "qc.draw()"
   ]
  },
  {
   "cell_type": "markdown",
   "id": "c29c503f",
   "metadata": {},
   "source": [
    "Une autre façon d'écrire nos qubits est d'utiliser des vecteurs. Par exemple, pour la base canonique:\n",
    "$$\n",
    "    |0\\rangle = \\begin{pmatrix} 1 \\\\ 0 \\end{pmatrix}, \\space \n",
    "    |1\\rangle = \\begin{pmatrix} 0 \\\\ 1 \\end{pmatrix}  \n",
    "$$\n",
    "Dans ce cas là, le qubit précédent s'écrit: \n",
    "$$\n",
    "    \\frac{\\sqrt{2}}{2} |0\\rangle + \\frac{\\sqrt{2}}{2} |1\\rangle =  \\frac{\\sqrt{2}}{2} \\begin{pmatrix} 1 \\\\ 1 \\end{pmatrix}\n",
    "$$"
   ]
  },
  {
   "cell_type": "markdown",
   "id": "65cc8a7a",
   "metadata": {},
   "source": [
    "### Mesure\n",
    "\n",
    "L'action de mesure sur le qubit le sort de son état quantique, il s'effondre <_<, il ne peut prendre qu'une valeur classique, 0 ou 1. Dans le cas des qubits $|0\\rangle$ et $|1\\rangle$, lors d'une mesure, ils donneront toujours 0, et 1. Mais quid des qubits en superposition ? Pour un qubit en superposition, la mesure est probabiliste. Pour un qubit $|\\psi\\rangle = \\alpha |0\\rangle + \\beta |1\\rangle$, les probabilités de mesure sont données par: \n",
    "\n",
    "$$\n",
    "    \\Pr(0) = \\left|\\alpha\\right|^2, \\space \\Pr(1) = \\left|\\beta\\right|^2  \n",
    "$$\n",
    "\n",
    "Dans le cas de $|\\psi\\rangle = \\frac{\\sqrt{2}}{2} |0\\rangle + \\frac{\\sqrt{2}}{2} |1\\rangle$, la probabilité d'obtenir 0 ou 1 est la même, $\\frac{1}{2}$!"
   ]
  },
  {
   "cell_type": "code",
   "execution_count": null,
   "id": "915f8e99",
   "metadata": {},
   "outputs": [],
   "source": [
    "qc = Circuit(1)\n",
    "qc.h(0)\n",
    "qc.draw_qubits()"
   ]
  },
  {
   "cell_type": "code",
   "execution_count": null,
   "id": "b0a39d8f",
   "metadata": {},
   "outputs": [],
   "source": [
    "qc.get_measure(shots=1000, normalise=False)"
   ]
  },
  {
   "cell_type": "markdown",
   "id": "f6c6e6f7",
   "metadata": {},
   "source": [
    "### Systèmes multiples\n",
    "\n",
    "De même, plusieurs qubits peuvent s'écrire avec des brakets, ou avec des vecteurs: \n",
    "$$\n",
    "    |\\psi\\rangle = \\alpha |00\\rangle + \\beta |01\\rangle + \\gamma |10\\rangle + \\beta |11\\rangle\n",
    "$$\n",
    "\n",
    "$$\n",
    "    |00\\rangle = \\begin{pmatrix} 1 \\\\ 0 \\\\ 0 \\\\ 0 \\end{pmatrix}, \\space \n",
    "    |01\\rangle = \\begin{pmatrix} 0 \\\\ 1 \\\\ 0 \\\\ 0 \\end{pmatrix}, \\space \n",
    "    |10\\rangle = \\begin{pmatrix} 0 \\\\ 0 \\\\ 1 \\\\ 0 \\end{pmatrix}, \\space  \n",
    "    |11\\rangle = \\begin{pmatrix} 0 \\\\ 0 \\\\ 0 \\\\ 1 \\end{pmatrix}  \n",
    "$$\n",
    "\n",
    "Pour combiner des qubits, on utilise l'opération $\\otimes$:\n",
    "$$\n",
    "|00\\rangle = |0\\rangle \\otimes |0\\rangle = \\begin{pmatrix} 1 \\\\ 0 \\end{pmatrix}\\otimes \\begin{pmatrix} 1 \\\\ 0 \\end{pmatrix} = \\begin{pmatrix}\n",
    "1 \\times \\begin{pmatrix} 1 \\\\ 0 \\end{pmatrix} \\\\ \n",
    "0 \\times \\begin{pmatrix} 1 \\\\ 0 \\end{pmatrix} \n",
    "\\end{pmatrix} = \\begin{pmatrix} 1 \\\\ 0 \\\\ 0 \\\\ 0  \\end{pmatrix}\n",
    "$$\n",
    "\n",
    "En pratique cela donne: "
   ]
  },
  {
   "cell_type": "code",
   "execution_count": null,
   "id": "8b1b4a29",
   "metadata": {},
   "outputs": [],
   "source": [
    "qc = Circuit(2)  # Circuit à 2 qubits\n",
    "qc.h(0)  # On applique une porte H au 1er qubit\n",
    "qc.draw_qubits()"
   ]
  },
  {
   "cell_type": "markdown",
   "id": "dc5ebd19",
   "metadata": {},
   "source": [
    "Attendez une seconde, n'aurait-on pas dû obtenir $\\left(\\frac{\\sqrt{2}}{2} |0\\rangle + \\frac{\\sqrt{2}}{2} |1\\rangle \\right) \\otimes |0\\rangle = \\frac{\\sqrt{2}}{2} |00\\rangle + \\frac{\\sqrt{2}}{2} |10\\rangle$? \n",
    "\n",
    "Cela est dû à qiskit, l'ordre est inversé, le qubit 0, celui en haut du circuit, est représenté en dernier. L'opération précédente était en fait $|0\\rangle \\otimes \\left(\\frac{\\sqrt{2}}{2} |0\\rangle + \\frac{\\sqrt{2}}{2} |1\\rangle \\right)$, ce qui donne bien le résultat obtenu en pratique: $\\frac{\\sqrt{2}}{2} |00\\rangle + \\frac{\\sqrt{2}}{2} |01\\rangle$, ouf. "
   ]
  },
  {
   "cell_type": "markdown",
   "id": "82f8e8a6",
   "metadata": {},
   "source": [
    "### Portes simples\n",
    "\n",
    "Les portes peuvent être représentés par des matrices unitaires, que l'on applique sur nos états quantiques: \n",
    "$$\n",
    "|\\psi_{\\text{out}}\\rangle = U|\\psi_{\\text{in}}\\rangle\n",
    "$$\n",
    "\n",
    "Par exemple, la porte quantique _NOT_, notée $X$, qui reproduit le même comportement que son équivalent classique:\n",
    "$$\n",
    "    X = \\begin{pmatrix} 0 & 1 \\\\ 1 & 0 \\end{pmatrix}, \n",
    "$$\n",
    "$$\n",
    "    X|0\\rangle = \\begin{pmatrix} 0 & 1 \\\\ 1 & 0 \\end{pmatrix} \\begin{pmatrix} 1 \\\\ 0 \\end{pmatrix} = \\begin{pmatrix} 0 \\\\ 1 \\end{pmatrix} = |1\\rangle, \n",
    "$$\n",
    "$$\n",
    "    X|1\\rangle = \\begin{pmatrix} 0 & 1 \\\\ 1 & 0 \\end{pmatrix} \\begin{pmatrix} 1 \\\\ 0 \\end{pmatrix} = \\begin{pmatrix} 1 \\\\ 0 \\end{pmatrix} = |0\\rangle\n",
    "$$"
   ]
  },
  {
   "cell_type": "code",
   "execution_count": null,
   "id": "386fe284",
   "metadata": {},
   "outputs": [],
   "source": [
    "qc = Circuit(1)\n",
    "qc.x(0)\n",
    "qc.draw_circuit()"
   ]
  },
  {
   "cell_type": "markdown",
   "id": "7427585b",
   "metadata": {},
   "source": [
    "Nous avons aussi vu la porte $H$, c'est la porte de Hadamard, elle permet de créer des états superposés: \n",
    "$$\n",
    "    H = \\frac{1}{\\sqrt{2}} \\begin{pmatrix} 1 & 1 \\\\ 1 & -1 \\end{pmatrix},  \n",
    "$$\n",
    "$$\n",
    "    H|0\\rangle = \\frac{1}{\\sqrt{2}} \\begin{pmatrix} 1 & 1 \\\\ 1 & -1 \\end{pmatrix} \\begin{pmatrix} 1 \\\\ 0 \\end{pmatrix} = \\frac{1}{\\sqrt{2}} \\begin{pmatrix} 1 \\\\ 1 \\end{pmatrix},  \n",
    "$$\n",
    "$$\n",
    "    H|1\\rangle = \\frac{1}{\\sqrt{2}} \\begin{pmatrix} 1 & 1 \\\\ 1 & -1 \\end{pmatrix} \\begin{pmatrix} 0 \\\\ 1 \\end{pmatrix} = \\frac{1}{\\sqrt{2}} \\begin{pmatrix} 1 \\\\ -1 \\end{pmatrix} \n",
    "$$\n",
    "\n",
    "Ce qui peut se décomposer selon la base canonique, pour voir le lien entre la notation braket et la notation matricielle: \n",
    "$$\n",
    "H|0\\rangle = \\frac{1}{\\sqrt{2}} \\begin{pmatrix} 1 \\\\ 1 \\end{pmatrix} = \\frac{1}{\\sqrt{2}} \\begin{pmatrix} 1 \\\\ 0 \\end{pmatrix} + \\frac{1}{\\sqrt{2}} \\begin{pmatrix} 0 \\\\ 1 \\end{pmatrix} = \\frac{1}{\\sqrt{2}} |0\\rangle + \\frac{1}{\\sqrt{2}}|1\\rangle\n",
    "$$\n"
   ]
  },
  {
   "cell_type": "code",
   "execution_count": null,
   "id": "593f90e1",
   "metadata": {},
   "outputs": [],
   "source": [
    "qc = Circuit(1)\n",
    "qc.h(0)\n",
    "qc.draw_circuit()"
   ]
  },
  {
   "cell_type": "markdown",
   "id": "10019fd1",
   "metadata": {},
   "source": [
    "Pour se déplacer sur la sphère de Bloch, on peut utiliser les portes $RX$, $RY$ et $RZ$. Elles sont définies par: \n",
    "\n",
    "$$\n",
    "R_X(\\theta) = \\begin{pmatrix}\n",
    "\\cos\\frac{\\theta}{2} & -i\\sin\\frac{\\theta}{2} \\\\\n",
    "-i\\sin\\frac{\\theta}{2} & \\cos\\frac{\\theta}{2}\n",
    "\\end{pmatrix},\n",
    "\\space\n",
    "\n",
    "R_Y(\\theta) = \\begin{pmatrix}\n",
    "\\cos\\frac{\\theta}{2} & -\\sin\\frac{\\theta}{2} \\\\\n",
    "\\sin\\frac{\\theta}{2} & \\cos\\frac{\\theta}{2}\n",
    "\\end{pmatrix},\n",
    "\\space\n",
    "\n",
    "R_Z(\\theta) = \\begin{pmatrix}\n",
    "e^{-i\\frac{\\theta}{2}} & 0 \\\\\n",
    "0 & e^{i\\frac{\\theta}{2}}\n",
    "\\end{pmatrix}\n",
    "$$"
   ]
  },
  {
   "cell_type": "code",
   "execution_count": null,
   "id": "d95c6abb",
   "metadata": {},
   "outputs": [],
   "source": [
    "qc = Circuit(1)\n",
    "qc.rx(theta=pi / 3, qubit=0)\n",
    "qc.ry(pi / 6, 0)\n",
    "qc.rz(pi / 12, 0)\n",
    "qc.draw_circuit()"
   ]
  },
  {
   "cell_type": "markdown",
   "id": "2cb8dc00",
   "metadata": {},
   "source": [
    "Ces notations permettent facilement d'appliquer des portes à un qubit, sur un qubit, mais qu'en est-il des états à plusieurs qubits ? Pour appliquer des portes simples dans des systèmes multiples, il faut utiliser le produit tensoriel. Par exemple, dans un système à deux qubits, appliquer la porte $H$ sur le premier qubit uniquement est équivalent à appliquer $H$ sur le premier qubit, et l'identité sur le second. Cela nous permet de créer une porte de la bonne taille: \n",
    "$$\n",
    "    H \\otimes I = \\frac{1}{\\sqrt{2}}\\begin{pmatrix}1 & 1 \\\\ 1& -1\\end{pmatrix} \\otimes \\begin{pmatrix} 1&0 \\\\ 0& 1 \\end{pmatrix} = \\frac{1}{\\sqrt{2}}\\begin{pmatrix} 1\\times\\begin{pmatrix} 1&0 \\\\ 0& 1 \\end{pmatrix}&1\\times\\begin{pmatrix} 1&0 \\\\ 0& 1 \\end{pmatrix}\\\\1\\times\\begin{pmatrix} 1&0 \\\\ 0& 1 \\end{pmatrix}&-1\\times\\begin{pmatrix} 1&0 \\\\ 0& 1 \\end{pmatrix} \\end{pmatrix}= \\frac{1}{\\sqrt{2}}\\begin{pmatrix} 1&0&1&0\\\\0&1&0&1\\\\1&0&-1&0\\\\0&1&0&-1\\end{pmatrix}\n",
    "$$  \n",
    "\n",
    "Ce qui nous permet de l'utiliser sur notre système multiple. Par exemple, pour l'appliquer sur $|01\\rangle$:\n",
    "$$\n",
    "    (H \\otimes I) |01\\rangle = \\frac{1}{\\sqrt{2}}\\begin{pmatrix} 1&0&1&0\\\\0&1&0&1\\\\1&0&-1&0\\\\0&1&0&-1\\end{pmatrix} \\begin{pmatrix} 0\\\\1\\\\0\\\\0\\end{pmatrix} = \\frac{1}{\\sqrt{2}}\\begin{pmatrix} 0\\\\1\\\\0\\\\1\\end{pmatrix} = \\frac{1}{\\sqrt{2}} |01\\rangle + \\frac{1}{\\sqrt{2}} |11\\rangle\n",
    "$$\n",
    "\n",
    "La notation avec des brakets permet aussi de rester sur un seul qubit à la fois. Pour appliquer $H$ au premier qubit uniquement: \n",
    "$$\n",
    "    (H|0\\rangle) \\otimes |1\\rangle = \\left(\\frac{1}{\\sqrt{2}} |0\\rangle + \\frac{1}{\\sqrt{2}} |1\\rangle \\right) \\otimes |1\\rangle = \\frac{1}{\\sqrt{2}} |01\\rangle + \\frac{1}{\\sqrt{2}} |11\\rangle\n",
    "$$"
   ]
  },
  {
   "cell_type": "code",
   "execution_count": null,
   "id": "b2cb1c8a",
   "metadata": {},
   "outputs": [],
   "source": [
    "qc = Circuit(2)\n",
    "\n",
    "# Préparation de l'état |01>\n",
    "qc.x(0)\n",
    "qc.barrier()\n",
    "\n",
    "# La barrière n'a pas d'impact sur le circuit (ici), je l'utiliserai pour améliorer la lisibilité des circuits.\n",
    "\n",
    "# On applique ensuite H\n",
    "qc.h(1)\n",
    "qc.draw_circuit()"
   ]
  },
  {
   "cell_type": "code",
   "execution_count": null,
   "id": "a086a795",
   "metadata": {},
   "outputs": [],
   "source": [
    "qc.draw_qubits()"
   ]
  },
  {
   "cell_type": "markdown",
   "id": "db7ec3d3",
   "metadata": {},
   "source": [
    "### Portes multiples\n",
    "\n",
    "Une porte qui va beaucoup nous intéresser par la suite est la _CNOT_, ou _controlled-NOT_. C'est elle qui va permettre d'intriquer des qubits ! Elle agit sur une paire de qubit, si le premier est à 0 (qubit de contrôle), il ne se passe rien, par contre si le premier est à 1, le deuxième est inversé, il passe par une porte _NOT_. Elle est définie par : \n",
    "\n",
    "$$\n",
    "\\text{CNOT} = \\begin{pmatrix}1&0&0&0\\\\0&1&0&0\\\\0&0&0&1\\\\0&0&1&0\\end{pmatrix}\n",
    "$$\n",
    "Ou encore : \n",
    "$$\n",
    "\\text{CNOT} = \n",
    "\\begin{cases}\n",
    "    |00 \\rangle \\xrightarrow[]{I \\otimes I} |00 \\rangle \\\\\n",
    "    |01 \\rangle \\xrightarrow[]{I \\otimes I} |01 \\rangle \\\\\n",
    "    |10 \\rangle \\xrightarrow[]{I \\otimes NOT} |11 \\rangle \\\\\n",
    "    |11 \\rangle \\xrightarrow[]{I \\otimes NOT} |10 \\rangle \n",
    "\\end{cases}\n",
    "$$"
   ]
  },
  {
   "cell_type": "code",
   "execution_count": null,
   "id": "95f0e3b2",
   "metadata": {},
   "outputs": [],
   "source": [
    "qc = Circuit(2)\n",
    "\n",
    "qc.x(0)\n",
    "qc.barrier()\n",
    "\n",
    "qc.cx(0, 1)  # Le qubit de contrôle est 0, celui qui va être inversé est 1\n",
    "qc.draw_circuit()"
   ]
  },
  {
   "cell_type": "code",
   "execution_count": null,
   "id": "20c43b3a",
   "metadata": {},
   "outputs": [],
   "source": [
    "qc.draw_qubits()"
   ]
  },
  {
   "cell_type": "markdown",
   "id": "9a2ad011",
   "metadata": {},
   "source": [
    "Dans le cas de qubits en superposition, j'utilise la notation avec braket qui permet de voir facilement le résultat: \n",
    "\n",
    "$$\n",
    "   \\text{CNOT} \\left(\\frac{1}{\\sqrt{2}} |00\\rangle + \\frac{1}{\\sqrt{2}} |10\\rangle \\right)  = \\frac{1}{\\sqrt{2}} \\text{CNOT} |00\\rangle + \\frac{1}{\\sqrt{2}} \\text{CNOT} |10\\rangle = \\frac{1}{\\sqrt{2}} |00\\rangle + \\frac{1}{\\sqrt{2}} |11\\rangle\n",
    "$$"
   ]
  },
  {
   "cell_type": "code",
   "execution_count": 136,
   "id": "3daca8b3",
   "metadata": {},
   "outputs": [],
   "source": [
    "qc = Circuit(2)\n",
    "\n",
    "qc.h(0)\n",
    "qc.barrier()\n",
    "\n",
    "qc.cx(0, 1)\n",
    "qc.draw_circuit()"
   ]
  },
  {
   "cell_type": "code",
   "execution_count": 137,
   "id": "cb4e8cc4",
   "metadata": {},
   "outputs": [
    {
     "data": {
      "text/latex": [
       "$$\\frac{\\sqrt{2}}{2} |00\\rangle+\\frac{\\sqrt{2}}{2} |11\\rangle$$"
      ],
      "text/plain": [
       "<IPython.core.display.Latex object>"
      ]
     },
     "execution_count": 137,
     "metadata": {},
     "output_type": "execute_result"
    }
   ],
   "source": [
    "qc.draw_qubits()"
   ]
  },
  {
   "cell_type": "markdown",
   "id": "48495768",
   "metadata": {},
   "source": [
    "### Un dernier point pour la route : opérations avec les bra-kets et décomposition spectrale\n",
    "\n",
    "Sans rentrer dans les détails, la forme des brakets a une utilité autre que nous rallentir à l'écriture : elle sert à représenter les opérations usuelles de manière visuelle.\n",
    "\n",
    "Par exemple, un produit scalaire (complexe) : $u^\\dagger v$, peut s'écrire : \n",
    "$$\n",
    "    \\langle u | v \\rangle\n",
    "$$\n",
    "\n",
    "De la même manière, le produit : $u v^\\dagger$ s'écrit : \n",
    "$$\n",
    "    | u \\rangle \\langle v |\n",
    "$$\n",
    "\n",
    "Exemple d'écriture matricielle:\n",
    "$$\n",
    "   | 1 \\rangle \\langle 0 | = \\begin{pmatrix} 0 &0\\\\ 1&0\\end{pmatrix}\n",
    "$$\n",
    "\n",
    "Exemple d'opération:\n",
    "$$\n",
    "  ( | 1 \\rangle \\langle 0 | )   (| 0 \\rangle + |1\\rangle) =   | 1 \\rangle \\langle 0 |  0 \\rangle + | 1 \\rangle \\langle 0 |1\\rangle =   | 1 \\rangle \\cdot 1 + | 1\\rangle \\cdot 0 = |1\\rangle \n",
    "$$\n",
    "\n",
    "\n",
    "Cette notation vas nous être utile pour décomposer nos portes. Commes toutes les portes sont des matrices unitaires, elles satisfont:\n",
    "$$\n",
    "    UU^\\dagger = I = U^\\dagger U\n",
    "$$\n",
    "\n",
    "Le théorème spectral nous donne donc une base orthonormale de dimension $N$: $\\{|\\psi_1\\rangle, \\ldots, |\\psi_N\\rangle\\}$, avec les vecteurs propres $\\lambda_1, \\ldots, \\lambda_N$ such that $U = \\lambda_1 |\\psi_1\\rangle\\langle\\psi_1| + \\cdots + \\lambda_N |\\psi_N\\rangle\\langle\\psi_N|$.\n",
    "\n",
    "Ou encore\n",
    "$$\n",
    "    U = \\sum_{k=1}^N \\lambda_k |\\psi_k\\rangle\\langle\\psi_k| \\tag{1}\n",
    "$$\n",
    "\n",
    "Par exemple pour l'identité: \n",
    "\n",
    "$$I = \\begin{pmatrix} 1 & 0 \\\\ 0 & 1 \\end{pmatrix} =  |0\\rangle \\langle 0| |1\\rangle \\langle 1|$$\n"
   ]
  },
  {
   "cell_type": "markdown",
   "id": "398d9b9d",
   "metadata": {},
   "source": [
    "### Note (non nécessaire) sur l'intrication\n",
    "\n",
    "Une propriété très intéressante des qubits est qu'ils peuvent être séparés, mais aussi **intriqués**, c'est-à-dire qu'ils sont dépendants les uns des autres. Cela permet, par exemple, d'agir sur un qubit et d'obtenir des informations sur le second.\n",
    "\n",
    "Si l'on prend l'état intriqué $|\\psi\\rangle = \\frac{1}{\\sqrt{2}}(|00\\rangle + |11\\rangle)$, et que l'on mesure le premier qubit, on a 50% de chance d'obtenir $0$ et 50% d'obtenir $1$. Cependant, en mesurant uniquement le premier qubit, l'état du second est entièrement déterminé sans qu'il soit mesuré ! En effet, si l'on mesure $0$ pour le premier qubit, alors le second est nécessairement aussi $0$. Attention, comme la mesure du premier qubit est aléatoire, cela ne permet pas de téléporter des informations à une vitesse supérieure à celle de la lumière, car dans l'autre perspective, on ne connaît pas l'état de la mesure (avant de recevoir l'information par un canal classique, par exemple).\n",
    "\n",
    "Un contre-exemple est l'état $|\\psi\\rangle = \\frac{1}{2}(|00\\rangle + |01\\rangle + |10\\rangle + |11\\rangle) = \\frac{1}{\\sqrt{2}}(|0\\rangle + |1\\rangle) \\otimes \\frac{1}{\\sqrt{2}}(|0\\rangle + |1\\rangle)$. La mesure du premier qubit ne donne aucune information sur le second ; les deux qubits sont **indépendants** ou **séparables**."
   ]
  },
  {
   "cell_type": "markdown",
   "id": "ee664120",
   "metadata": {},
   "source": [
    "## À vous de jouer !\n",
    "\n",
    "_Vous n'aurez besoin uniquement des portes présentées au dessus: $X$, $H$, $RX$, $RY$, $RZ$, $CNOT$, cependant, toute la librairie est disponible (l'API de vérification accepte n'importe quel `Circuit` de bonne taille)._\n",
    "\n",
    "### Partie 1: Rotation\n",
    "\n",
    "On a vu que l'état $H|0\\rangle$ a une probabilité $\\frac{1}{2}$ de donner 0, et $\\frac{1}{2}$ de donner 1. On peut en réalité trouver un état pour n'importe couple de probabilité donné. \n",
    "\n",
    "Trouvez un état $|\\psi\\rangle$ ayant une probabilité $\\frac{1}{4}$ de donner 0, et $\\frac{3}{4}$ de donner 1. "
   ]
  },
  {
   "cell_type": "code",
   "execution_count": 14,
   "id": "da3fe5c0",
   "metadata": {},
   "outputs": [],
   "source": [
    "p1 = Circuit(1)\n",
    "p1.draw_circuit()"
   ]
  },
  {
   "cell_type": "code",
   "execution_count": 135,
   "id": "d76bde96",
   "metadata": {},
   "outputs": [
    {
     "data": {
      "text/plain": [
       "{'0': 0.2578125, '1': 0.7421875}"
      ]
     },
     "execution_count": 135,
     "metadata": {},
     "output_type": "execute_result"
    }
   ],
   "source": [
    "p1_input = Circuit(1)\n",
    "\n",
    "p1_input.u(theta=2*pi/3, phi=0, lam=0, qubit=0)\n",
    "\n",
    "p1_input.get_measure()"
   ]
  },
  {
   "cell_type": "code",
   "execution_count": 60,
   "id": "ea1f3198",
   "metadata": {},
   "outputs": [
    {
     "name": "stdout",
     "output_type": "stream",
     "text": [
      "{'1': 0.7496, '0': 0.2504}\n",
      "{'1': ~0.75, '0': ~0.25}\n"
     ]
    }
   ],
   "source": [
    "p1.compose(p1_input, front=True, inplace=True)  # oui, inutile ici\n",
    "print(p1.get_measure(shots=10000))\n",
    "print(\"{'1': ~0.75, '0': ~0.25}\")"
   ]
  },
  {
   "cell_type": "markdown",
   "id": "f5c9a4ba",
   "metadata": {},
   "source": [
    "### Partie 2: Vecteurs propres\n",
    "\n",
    "Pour l'opération _NOT_, un vecteur propre est l'état $|+\\rangle = \\frac{1}{\\sqrt{2}} \\begin{pmatrix} 1 \\\\ 1 \\end{pmatrix}$, associé à la valeur propre $1$: $X |+\\rangle = |+\\rangle$. L'état $|+\\rangle$ peut se construire avec une porte de Hadamard: $H|0\\rangle = |+\\rangle$.\n",
    "\n",
    "Trouvez un vecteur propre de $\\text{CNOT}(I\\oplus H)$, représenté en circuit ci-dessous : "
   ]
  },
  {
   "cell_type": "code",
   "execution_count": 165,
   "id": "7ab4171a",
   "metadata": {},
   "outputs": [
    {
     "data": {
      "text/html": [
       "<pre style=\"word-wrap: normal;white-space: pre;background: #fff0;line-height: 1.1;font-family: &quot;Courier New&quot;,Courier,monospace\">     ┌───┐     \n",
       "q_0: ┤ H ├──■──\n",
       "     └───┘┌─┴─┐\n",
       "q_1: ─────┤ X ├\n",
       "          └───┘</pre>"
      ],
      "text/plain": [
       "     ┌───┐     \n",
       "q_0: ┤ H ├──■──\n",
       "     └───┘┌─┴─┐\n",
       "q_1: ─────┤ X ├\n",
       "          └───┘"
      ]
     },
     "execution_count": 165,
     "metadata": {},
     "output_type": "execute_result"
    }
   ],
   "source": [
    "p2 = Circuit(2)\n",
    "p2.h(0)\n",
    "p2.cx(0, 1)\n",
    "p2.draw()"
   ]
  },
  {
   "cell_type": "code",
   "execution_count": 172,
   "id": "0754c4e3",
   "metadata": {},
   "outputs": [
    {
     "data": {
      "text/html": [
       "<pre style=\"word-wrap: normal;white-space: pre;background: #fff0;line-height: 1.1;font-family: &quot;Courier New&quot;,Courier,monospace\">     ┌────────────┐┌───┐     \n",
       "q_0: ┤ U(π/4,0,0) ├┤ H ├──■──\n",
       "     └───┬───┬────┘└───┘┌─┴─┐\n",
       "q_1: ────┤ H ├──────────┤ X ├\n",
       "         └───┘          └───┘</pre>"
      ],
      "text/plain": [
       "     ┌────────────┐┌───┐     \n",
       "q_0: ┤ U(π/4,0,0) ├┤ H ├──■──\n",
       "     └───┬───┬────┘└───┘┌─┴─┐\n",
       "q_1: ────┤ H ├──────────┤ X ├\n",
       "         └───┘          └───┘"
      ]
     },
     "execution_count": 172,
     "metadata": {},
     "output_type": "execute_result"
    }
   ],
   "source": [
    "p2 = Circuit(2)\n",
    "p2.h(0)\n",
    "p2.cx(0, 1)\n",
    "p2_input = Circuit(2)\n",
    "\n",
    "\n",
    "\n",
    "p2_input.u(theta=pi/4, phi=0, lam=0, qubit=0)\n",
    "p2_input.h(1)\n",
    "p2_input.draw_qubits()\n",
    "\n",
    "\n",
    "\n",
    "p2.compose(p2_input, front=True, inplace=True)\n",
    "\n",
    "\n",
    "p2.draw()"
   ]
  },
  {
   "cell_type": "code",
   "execution_count": 173,
   "id": "01392afe",
   "metadata": {},
   "outputs": [
    {
     "name": "stdout",
     "output_type": "stream",
     "text": [
      "\n",
      "    {'00': 0.4345703125, '10': 0.419921875, '01': 0.0810546875, '11': 0.064453125}\n",
      "~=\n",
      "    {'00': 0.41796875, '10': 0.4306640625, '01': 0.0732421875, '11': 0.078125}\n",
      "\n"
     ]
    }
   ],
   "source": [
    "# Vérification\n",
    "print(f\"\"\"\n",
    "    {p2_input.get_measure()}\n",
    "~=\n",
    "    {p2.get_measure()}\n",
    "\"\"\")"
   ]
  },
  {
   "cell_type": "markdown",
   "id": "8b6b8be4",
   "metadata": {},
   "source": [
    "## Récupération du drapeau ! \n",
    "\n",
    "Pour valider vos circuits `p1_input` et `p2_input`, il faut me les envoyer sous forme _flat_, à l'adresse donée dans l'énoncée. Le code suivant devrait se charger des détails. **Vérifiez l'URL**.\n",
    "\n",
    "Le brute force est interdit, vous avez des tests pour vérifier de votre côté. Cependant, même avec $10000$ _shots_, il se peut que vous soyez très malchanceux, dans ce cas là, n'hésitez pas à réessayer une ou deux fois. Si le problème persiste, que vous pensez avoir juste et que c'est l'API qui est cassé, ce qui est tout à fait possible, venez me voir en DM sur discord : @sckathach, ou Le magicien quantique. "
   ]
  },
  {
   "cell_type": "code",
   "execution_count": 175,
   "id": "edd6e728",
   "metadata": {},
   "outputs": [
    {
     "name": "stdout",
     "output_type": "stream",
     "text": [
      "GG ! Voici le drapeau : 404CTF{uN3_SUp3rp0s1tIon_d3_dr4pE4ux_PoUr_1_m3l4nGE_ExPl0S1f}\n"
     ]
    }
   ],
   "source": [
    "import requests\n",
    "import json\n",
    "\n",
    "data = {\n",
    "    \"p1_input\": p1_input.get_flat_unitary(),\n",
    "    \"p2_input\": p2_input.get_flat_unitary(),\n",
    "}\n",
    "\n",
    "url = \"https://causapscal-des-profondeurs.404ctf.fr/challenges/1\"\n",
    "headers = {\"Content-Type\": \"application/json\", \"Accept\": \"application/json\"}\n",
    "response = requests.post(url, json=data, headers=headers)\n",
    "\n",
    "print(json.loads(response.content)[\"message\"])"
   ]
  }
 ],
 "metadata": {
  "kernelspec": {
   "display_name": "profondeurs",
   "language": "python",
   "name": "python3"
  },
  "language_info": {
   "codemirror_mode": {
    "name": "ipython",
    "version": 3
   },
   "file_extension": ".py",
   "mimetype": "text/x-python",
   "name": "python",
   "nbconvert_exporter": "python",
   "pygments_lexer": "ipython3",
   "version": "3.12.1"
  }
 },
 "nbformat": 4,
 "nbformat_minor": 5
}
